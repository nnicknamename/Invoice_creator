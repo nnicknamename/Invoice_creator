{
 "cells": [
  {
   "cell_type": "code",
   "execution_count": 2,
   "metadata": {},
   "outputs": [],
   "source": []
  },
  {
   "cell_type": "code",
   "execution_count": 1,
   "metadata": {},
   "outputs": [],
   "source": [
    "import re\n",
    "from latexcompiler import LC\n",
    "import os\n",
    "from pathlib import Path\n",
    "import json\n",
    "import pandas as pd\n",
    "def load_json(path):\n",
    "    with open(path,\"r\") as file:\n",
    "        dict=json.load(file)\n",
    "    return dict\n",
    "\n",
    "def load_text(path):\n",
    "    with open(path,\"r\") as file:\n",
    "        template=\"\".join(file.readlines())\n",
    "    return template\n",
    "\n",
    "class Invoice_filler():\n",
    "    tags={\n",
    "        \"tax_rate\":\"#TAX_RATE\",\n",
    "        \"invoice_ref\":\"#INVOICE_REF\",\n",
    "        \"due_time\":\"#DUE_TIME\",\n",
    "        \"project_name\":\"#PROJECT_NAME\",\n",
    "        \"logo_path\":\"#LOGO_PATH\",\n",
    "        \"company_info\":\"#COMPANY_INFO\",\n",
    "        \"client_info\":\"#CLIENT_INFO\",\n",
    "        \"terms_conditions\":\"#TERMS_CONDITIONS\",\n",
    "        \"invoice_items\":\"#INVOICE_ITEMS\"\n",
    "    }\n",
    "    def __init__(self,\n",
    "                 template_snippets_path:str,\n",
    "                 template_path:str,\n",
    "                 company_info:dict,\n",
    "                 client_info:dict,\n",
    "                 tax_info:dict,\n",
    "                 logo_path:str,\n",
    "                 terms_conditions:str) -> None:\n",
    "        self.tempalte=load_text(template_path)\n",
    "        self.company_info=company_info\n",
    "        self.client_info=client_info\n",
    "        self.tax_info=tax_info\n",
    "        self.logo_path=logo_path\n",
    "        self.terms_conditions=terms_conditions\n",
    "        self.template_snippets=load_json(template_snippets_path)\n",
    "\n",
    "    def _render_invoice_items(self,invoice_data):\n",
    "        \"\"\"\n",
    "            Creates partial tex code for the given invoice data.\n",
    "        \"\"\"\n",
    "        res=\"\"\n",
    "        for task in invoice_data:\n",
    "            t=task\n",
    "            for item in invoice_data[task]:\n",
    "                snippet=r\"\\\\\"+self.template_snippets[\"items\"][\"item\"]\n",
    "                print(item)\n",
    "                snippet=self._fill_snippet(\"#1\",t,snippet)\n",
    "                snippet=self._fill_snippet(\"#2\",item[\"detail\"],snippet)\n",
    "                snippet=self._fill_snippet(\"#3\",item[\"qt\"],snippet)\n",
    "                snippet=self._fill_snippet(\"#4\",item[\"unit\"],snippet)\n",
    "                snippet=self._fill_snippet(\"#5\",item[\"total\"],snippet)\n",
    "                t=r\"\"\n",
    "                res+=snippet+\"\\n\"\n",
    "            res+=r\"\\\\\"+self.template_snippets[\"items\"][\"separator\"]+\"\\n\"\n",
    "        print(res)\n",
    "        return res\n",
    "\n",
    "    def _render_business_info(self,business_info:dict,actor_type:str)->str:\n",
    "        \"\"\"\n",
    "        \"\"\"\n",
    "        res=\"\"\n",
    "        for key in business_info:\n",
    "            snippet=r\"\\\\\"+self.template_snippets[actor_type][key]\n",
    "            snippet=self._fill_snippet(\"#\",business_info[key],snippet)\n",
    "            res+=snippet\n",
    "        print(res)\n",
    "        return res\n",
    "\n",
    "    def _fill_snippet(self,search,data,snippet,prefix=\"\"):\n",
    "        a=re.sub(search,f\"{prefix}{data}\",snippet)\n",
    "        return a\n",
    "\n",
    "    def _fill_template(self,ref:str,due_time:int,project_name:str,invoice_data:dict)->str:\n",
    "        \"\"\"\n",
    "        \"\"\"\n",
    "        res=self.tempalte\n",
    "        # res=self._fill_snippet(self.tags[\"tax_rate\"],self.tax_rate,res)\n",
    "        res=self._fill_snippet(self.tags[\"invoice_ref\"],ref,res)\n",
    "        res=self._fill_snippet(self.tags[\"due_time\"],str(due_time),res)\n",
    "        res=self._fill_snippet(self.tags[\"project_name\"],project_name,res)\n",
    "        res=self._fill_snippet(self.tags[\"logo_path\"],self.logo_path,res)\n",
    "        res=self._fill_snippet(self.tags[\"company_info\"],self._render_business_info(self.company_info,\"company\"),res)\n",
    "        res=self._fill_snippet(self.tags[\"client_info\"],self._render_business_info(self.client_info,\"client\"),res)\n",
    "        res=self._fill_snippet(self.tags[\"terms_conditions\"],self.terms_conditions,res)\n",
    "        res=self._fill_snippet(self.tags[\"invoice_items\"],self._render_invoice_items(invoice_data),res)\n",
    "        return res\n",
    "\n",
    "    def _save_latex(self,render_path,filled_template):\n",
    "        doc_path=render_path+\"/temp.tex\"\n",
    "        with open(doc_path,\"w\") as file:\n",
    "            file.write(filled_template)\n",
    "        return doc_path\n",
    "\n",
    "    def compile_document(self,render_path):\n",
    "        path=os.path.abspath(render_path)\n",
    "\n",
    "        LC.compile_document(tex_engine=\"pdflatex\",\n",
    "                            bib_engine='biber',\n",
    "                            no_bib=True,\n",
    "                            path=path,\n",
    "                            folder_name=Path(path).parent)\n",
    "    \n",
    "    def render_document(self,ref:str,due_time:int,project_name:str,invoice_data:dict,render_dir:str):\n",
    "        filled_template=self._fill_template(ref,due_time,project_name,invoice_data)\n",
    "        doc_path=self._save_latex(render_dir,filled_template)\n",
    "        self.compile_document(doc_path)\n"
   ]
  },
  {
   "cell_type": "code",
   "execution_count": 2,
   "metadata": {},
   "outputs": [],
   "source": [
    "            \n",
    "            \n",
    "\n",
    "template_snippets_path=r\"C:\\Users\\pc\\Documents\\programming\\personal_projects\\invoice_creator\\templates\\snippets.json\"\n",
    "template_path=r\"C:\\Users\\pc\\Documents\\programming\\personal_projects\\invoice_creator\\templates\\main.tex\"\n",
    "logo_path=r\"C:/Users/pc/Documents/programming/personal_projects/invoice_creator/templates/logoSmaller.png\"\n",
    "\n",
    "business_info={'NAME': 'PRISgazouz1', \n",
    "               'ADRESS': 'testadrs', \n",
    "               'TEL': '012384712', \n",
    "               'RC': 'r10238947', \n",
    "               'NIF': 'n239148239', \n",
    "               'AI': 'a2391847239', \n",
    "               'RIB': '123148976234897'}\n",
    "clinet_info={'NAME': 'PRISMA1', \n",
    "             'ADRESS': 'aaaa', \n",
    "             'TEL': 12384712, \n",
    "             'RC': 'r10238947', \n",
    "             'NIF': 'n2391482391', \n",
    "             'AI': 'a2391847239', \n",
    "             'RIB': 123148976234897}\n",
    "tax_info={'test': 4140.0}\n",
    "\n",
    "filler=Invoice_filler(\n",
    "    template_snippets_path=template_snippets_path,\n",
    "    template_path=template_path,\n",
    "    company_info=business_info,\n",
    "    client_info=clinet_info,\n",
    "    tax_info=tax_info,\n",
    "    logo_path=logo_path,\n",
    "    terms_conditions=\"nothing\"\n",
    ")"
   ]
  },
  {
   "cell_type": "code",
   "execution_count": null,
   "metadata": {},
   "outputs": [
    {
     "name": "stdout",
     "output_type": "stream",
     "text": [
      "\\\\Entreprise{PRISgazouz1}\\\\EAdresse{testadrs}\\\\ETel{012384712}\\\\ERC{r10238947}\\\\ENIF{n239148239}\\\\EAI{a2391847239}\\\\ERIB{123148976234897}\n",
      "\\\\Destinataire{PRISMA1}\\\\DAdresse{aaaa}\\\\DTel{12384712}\\\\DRC{r10238947}\\\\DNIF{n2391482391}\\\\DAI{a2391847239}\\\\DRIB{123148976234897}\n",
      "{'detail': 'four', 'unit': 7000, 'qt': 1, 'total': 7000.0}\n",
      "{'detail': 'three', 'unit': 7000, 'qt': 1, 'total': 7000.0}\n",
      "{'detail': 'one', 'unit': 10000, 'qt': 2, 'total': 20000.0}\n",
      "{'detail': 'two ', 'unit': 5000, 'qt': 1, 'total': 5000.0}\n",
      "{'detail': 'test', 'unit': 15000, 'qt': 1, 'total': 15000.0}\n",
      "{'detail': 'second_task', 'unit': 15000, 'qt': 1, 'total': 15000.0}\n",
      "\\\\invoiceitem{Animation}{four}{1}{7000}{7000.0}\n",
      "\\\\separator\n",
      "\\\\invoiceitem{Modeling beach}{three}{1}{7000}{7000.0}\n",
      "\\\\separator\n",
      "\\\\invoiceitem{Modeling buildings}{one}{2}{10000}{20000.0}\n",
      "\\\\separator\n",
      "\\\\invoiceitem{Modeling environment}{two }{1}{5000}{5000.0}\n",
      "\\\\separator\n",
      "\\\\invoiceitem{Track}{test}{1}{15000}{15000.0}\n",
      "\\\\invoiceitem{}{second_task}{1}{15000}{15000.0}\n",
      "\\\\separator\n",
      "\n"
     ]
    },
    {
     "name": "stderr",
     "output_type": "stream",
     "text": [
      "Compile LaTeX file(s):   0%|          | 0/2 [00:00<?, ?it/s]"
     ]
    }
   ],
   "source": [
    "invoice_info={'ref': '9/24', 'date': '08/10/2024', 'due_date': '08/10/2024', 'project_name': 'stest'}\n",
    "items_info={'Animation': [{'detail': 'four', 'unit': 7000, 'qt': 1, 'total': 7000.0}], \n",
    "            'Modeling beach': [{'detail': 'three', 'unit': 7000, 'qt': 1, 'total': 7000.0}], \n",
    "            'Modeling buildings': [{'detail': 'one', 'unit': 10000, 'qt': 2, 'total': 20000.0}], \n",
    "            'Modeling environment': [{'detail': 'two ', 'unit': 5000, 'qt': 1, 'total': 5000.0}], \n",
    "            'Track': [{'detail': 'test', 'unit': 15000, 'qt': 1, 'total': 15000.0}, \n",
    "                      {'detail': 'second_task', 'unit': 15000, 'qt': 1, 'total': 15000.0}]\n",
    "            }\n",
    "\n",
    "\n",
    "filler.render_document(invoice_info[\"ref\"],\n",
    "                        due_time=90,\n",
    "                        project_name=invoice_info[\"project_name\"],\n",
    "                        invoice_data=items_info,\n",
    "                        render_dir=r\"C:\\Users\\pc\\Documents\\programming\\personal_projects\\invoice_creator\\templates/\"\n",
    "                        )\n"
   ]
  },
  {
   "cell_type": "code",
   "execution_count": 142,
   "metadata": {},
   "outputs": [
    {
     "data": {
      "text/html": [
       "<div>\n",
       "<style scoped>\n",
       "    .dataframe tbody tr th:only-of-type {\n",
       "        vertical-align: middle;\n",
       "    }\n",
       "\n",
       "    .dataframe tbody tr th {\n",
       "        vertical-align: top;\n",
       "    }\n",
       "\n",
       "    .dataframe thead th {\n",
       "        text-align: right;\n",
       "    }\n",
       "</style>\n",
       "<table border=\"1\" class=\"dataframe\">\n",
       "  <thead>\n",
       "    <tr style=\"text-align: right;\">\n",
       "      <th></th>\n",
       "      <th>task</th>\n",
       "      <th>detail</th>\n",
       "      <th>unit</th>\n",
       "      <th>qt</th>\n",
       "    </tr>\n",
       "  </thead>\n",
       "  <tbody>\n",
       "    <tr>\n",
       "      <th>0</th>\n",
       "      <td>Track</td>\n",
       "      <td>test</td>\n",
       "      <td>15000</td>\n",
       "      <td>1</td>\n",
       "    </tr>\n",
       "    <tr>\n",
       "      <th>1</th>\n",
       "      <td>Track</td>\n",
       "      <td>second_task</td>\n",
       "      <td>15000</td>\n",
       "      <td>1</td>\n",
       "    </tr>\n",
       "    <tr>\n",
       "      <th>2</th>\n",
       "      <td>Modeling buildings</td>\n",
       "      <td>one</td>\n",
       "      <td>10000</td>\n",
       "      <td>2</td>\n",
       "    </tr>\n",
       "    <tr>\n",
       "      <th>3</th>\n",
       "      <td>Modeling environment</td>\n",
       "      <td>two</td>\n",
       "      <td>5000</td>\n",
       "      <td>1</td>\n",
       "    </tr>\n",
       "    <tr>\n",
       "      <th>4</th>\n",
       "      <td>Modeling beach</td>\n",
       "      <td>three</td>\n",
       "      <td>7000</td>\n",
       "      <td>1</td>\n",
       "    </tr>\n",
       "    <tr>\n",
       "      <th>5</th>\n",
       "      <td>Animation</td>\n",
       "      <td>four</td>\n",
       "      <td>7000</td>\n",
       "      <td>1</td>\n",
       "    </tr>\n",
       "  </tbody>\n",
       "</table>\n",
       "</div>"
      ],
      "text/plain": [
       "                   task       detail   unit  qt\n",
       "0                 Track         test  15000   1\n",
       "1                 Track  second_task  15000   1\n",
       "2    Modeling buildings          one  10000   2\n",
       "3  Modeling environment         two    5000   1\n",
       "4        Modeling beach        three   7000   1\n",
       "5             Animation         four   7000   1"
      ]
     },
     "execution_count": 142,
     "metadata": {},
     "output_type": "execute_result"
    }
   ],
   "source": [
    "df1=df.copy()\n",
    "df1[\"total\"]=df1[\"unit\"]*df1[\"qt\"]\n",
    "df"
   ]
  },
  {
   "cell_type": "code",
   "execution_count": 133,
   "metadata": {},
   "outputs": [
    {
     "name": "stdout",
     "output_type": "stream",
     "text": [
      "{'Animation': {'detail': 'four', 'unit': 7000, 'qt': 1}, 'Modeling beach': {'detail': 'three', 'unit': 7000, 'qt': 1}, 'Modeling buildings': {'detail': 'one', 'unit': 10000, 'qt': 2}, 'Modeling environment': {'detail': 'two ', 'unit': 5000, 'qt': 1}, 'Track': {'detail': 'second_task', 'unit': 15000, 'qt': 1}}\n"
     ]
    }
   ],
   "source": [
    "res={key:{}  for key in df.groupby(\"task\").groups}\n",
    "\n",
    "for key in df.groupby(\"task\").groups:\n",
    "    items=df.groupby(\"task\").get_group(key)\n",
    "    for _,task in items.iterrows():\n",
    "        res[key]=task[task!=\"task\"].drop(\"task\").to_dict()\n",
    "\n",
    "print(res)"
   ]
  },
  {
   "cell_type": "code",
   "execution_count": 123,
   "metadata": {},
   "outputs": [
    {
     "name": "stdout",
     "output_type": "stream",
     "text": [
      "{'detail': 'test', 'unit': 15000, 'qt': 1}\n",
      "{'detail': 'second_task', 'unit': 15000, 'qt': 1}\n"
     ]
    },
    {
     "data": {
      "text/plain": [
       "detail    second_task\n",
       "unit            15000\n",
       "qt                  1\n",
       "Name: 1, dtype: object"
      ]
     },
     "execution_count": 123,
     "metadata": {},
     "output_type": "execute_result"
    }
   ],
   "source": [
    "for _,task in df.groupby(\"task\").get_group(\"Track\").iterrows():\n",
    "    print(task[task!=\"task\"].drop(\"task\").to_dict())\n"
   ]
  },
  {
   "cell_type": "code",
   "execution_count": 6,
   "metadata": {},
   "outputs": [],
   "source": [
    "\n",
    "company_info=pd.read_csv(r\"./company_info.csv\")"
   ]
  },
  {
   "cell_type": "code",
   "execution_count": 52,
   "metadata": {},
   "outputs": [
    {
     "data": {
      "text/plain": [
       "{'NAME': 'PRISgazouz1',\n",
       " 'ADRESS': 'testadrs',\n",
       " 'TEL': '012384712',\n",
       " 'RC': 'r10238947',\n",
       " 'NIF': 'n239148239',\n",
       " 'AI': 'a2391847239',\n",
       " 'RIB': '123148976234897'}"
      ]
     },
     "execution_count": 52,
     "metadata": {},
     "output_type": "execute_result"
    }
   ],
   "source": [
    "assert company_info.shape==(7,2)\n",
    "{row.iloc[0]:row.iloc[1]  for a,row in company_info.iterrows()}"
   ]
  },
  {
   "cell_type": "code",
   "execution_count": null,
   "metadata": {},
   "outputs": [],
   "source": []
  },
  {
   "cell_type": "code",
   "execution_count": null,
   "metadata": {},
   "outputs": [],
   "source": []
  },
  {
   "cell_type": "code",
   "execution_count": null,
   "metadata": {},
   "outputs": [],
   "source": []
  },
  {
   "cell_type": "code",
   "execution_count": null,
   "metadata": {},
   "outputs": [],
   "source": []
  },
  {
   "cell_type": "code",
   "execution_count": 27,
   "metadata": {},
   "outputs": [
    {
     "data": {
      "text/plain": [
       "'.json'"
      ]
     },
     "execution_count": 27,
     "metadata": {},
     "output_type": "execute_result"
    }
   ],
   "source": [
    "os.path.splitext(\"./test.json\")[-1]"
   ]
  },
  {
   "cell_type": "code",
   "execution_count": 26,
   "metadata": {},
   "outputs": [
    {
     "data": {
      "text/plain": [
       "('one', '.txt')"
      ]
     },
     "execution_count": 26,
     "metadata": {},
     "output_type": "execute_result"
    }
   ],
   "source": [
    "os.path.splitext(os.path.basename(\"./test/one.txt\"))"
   ]
  },
  {
   "cell_type": "code",
   "execution_count": 85,
   "metadata": {},
   "outputs": [
    {
     "data": {
      "text/plain": [
       "135000"
      ]
     },
     "execution_count": 85,
     "metadata": {},
     "output_type": "execute_result"
    }
   ],
   "source": [
    "v=[\n",
    "128000,\n",
    "-1000,\n",
    "-1000,\n",
    "-1000,\n",
    "10000\n",
    "]\n",
    "sum(v)"
   ]
  },
  {
   "cell_type": "code",
   "execution_count": null,
   "metadata": {},
   "outputs": [],
   "source": []
  }
 ],
 "metadata": {
  "kernelspec": {
   "display_name": "Python 3",
   "language": "python",
   "name": "python3"
  },
  "language_info": {
   "codemirror_mode": {
    "name": "ipython",
    "version": 3
   },
   "file_extension": ".py",
   "mimetype": "text/x-python",
   "name": "python",
   "nbconvert_exporter": "python",
   "pygments_lexer": "ipython3",
   "version": "3.10.5"
  }
 },
 "nbformat": 4,
 "nbformat_minor": 2
}
